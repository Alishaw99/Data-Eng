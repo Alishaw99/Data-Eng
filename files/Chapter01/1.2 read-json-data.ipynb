{
 "cells": [
  {
   "cell_type": "markdown",
   "id": "d303e34b-0ebf-4f24-b1cb-be39cea040b9",
   "metadata": {},
   "source": [
    "### Reading XML data with an inferred schema"
   ]
  },
  {
   "cell_type": "code",
   "execution_count": 1,
   "id": "f6e19347",
   "metadata": {
    "tags": []
   },
   "outputs": [],
   "source": [
    "from pyspark.sql import SparkSession\n",
    "from pyspark.sql.functions import *\n",
    "\n",
    "spark = (SparkSession.builder\n",
    "         .appName(\"read-json-data\")\n",
    "         .master(\"spark://spark-master:7077\")\n",
    "         .config(\"spark.executor.memory\", \"512m\")\n",
    "         .getOrCreate())\n",
    "\n",
    "spark.sparkContext.setLogLevel(\"ERROR\")"
   ]
  },
  {
   "cell_type": "code",
   "execution_count": null,
   "id": "df98ff82-9a19-4744-94ca-0d1e2050c7e4",
   "metadata": {
    "tags": []
   },
   "outputs": [],
   "source": [
    "# Read JSON file into a DataFrame\n",
    "df = (spark.read.format(\"json\")\n",
    "      .option(\"multiLine\", \"true\")\n",
    "      .load(\"../data/nobel_prizes.json\"))"
   ]
  },
  {
   "cell_type": "code",
   "execution_count": null,
   "id": "02607022-94ef-4145-b491-92a60bd15905",
   "metadata": {
    "tags": []
   },
   "outputs": [],
   "source": [
    "df.printSchema()"
   ]
  },
  {
   "cell_type": "code",
   "execution_count": null,
   "id": "e653265c-a151-4917-82ab-ccf8df808fcd",
   "metadata": {
    "tags": []
   },
   "outputs": [],
   "source": [
    "# Display contents of DataFrame\n",
    "df.show()"
   ]
  },
  {
   "cell_type": "code",
   "execution_count": null,
   "id": "21cf29f1-1202-40fe-aab3-a0da0ba4593d",
   "metadata": {
    "tags": []
   },
   "outputs": [],
   "source": [
    "df_flattened = (\n",
    "    df\n",
    "    .withColumn(\"laureates\",explode(col(\"laureates\"))) # Explode the laureates array column into rows\n",
    "    .select(col(\"category\")\n",
    "            , col(\"year\")\n",
    "            , col(\"overallMotivation\")\n",
    "            , col(\"laureates.id\")\n",
    "            , col(\"laureates.firstname\")\n",
    "            , col(\"laureates.surname\")\n",
    "            , col(\"laureates.share\")\n",
    "            , col(\"laureates.motivation\"))) # Use dot notion for columns in the STRUCT field\n",
    "\n",
    "df_flattened.show(truncate=False)"
   ]
  },
  {
   "cell_type": "code",
   "execution_count": null,
   "id": "532ff149-aeb0-4cd1-8f79-b27f47629ed3",
   "metadata": {
    "tags": []
   },
   "outputs": [],
   "source": [
    "from pyspark.sql.types import StructType, StructField, StringType, IntegerType\n",
    "\n",
    "json_schema = StructType(\n",
    "    [StructField('category', StringType(), True),\n",
    "     StructField('laureates', ArrayType(StructType(\n",
    "         [StructField('firstname', StringType(), True), \n",
    "          StructField('id', StringType(), True), \n",
    "          StructField('motivation', StringType(), True), \n",
    "          StructField('share', StringType(), True), \n",
    "          StructField('surname', StringType(), True)\n",
    "          ]), True), True),\n",
    "     StructField('overallMotivation', StringType(), True), \n",
    "     StructField('year', IntegerType(), True)])\n",
    "\n",
    "json_df_with_schema = (\n",
    "    spark.read.format(\"json\")\n",
    "    .schema(json_schema)\n",
    "    .option(\"multiLine\", \"true\")\n",
    "    .option(\"mode\", \"PERMISSIVE\")\n",
    "    .option(\"columnNameOfCorruptRecord\", \"corrupt_record\")\n",
    "    .load(\"../data/nobel_prizes.json\"))"
   ]
  },
  {
   "cell_type": "markdown",
   "id": "e0e89aba-2506-45c0-a9a5-92d123aa4d0a",
   "metadata": {},
   "source": [
    "### `get_json_object()` and `json_tuple()` functions"
   ]
  },
  {
   "cell_type": "code",
   "execution_count": null,
   "id": "654f8ce8-e4ff-4b77-a339-cb877e80451b",
   "metadata": {
    "tags": []
   },
   "outputs": [],
   "source": [
    "from pyspark.sql.functions import get_json_object\n",
    "from pyspark.sql.types import StringType\n",
    "\n",
    "# create a DataFrame with a JSON string column\n",
    "df = spark.createDataFrame([\n",
    "  (1, '{\"name\": \"Alice\", \"age\": 25}'),\n",
    "  (2, '{\"name\": \"Bob\", \"age\": 30}')\n",
    "], [\"id\", \"json_data\"])\n",
    "\n",
    "# extract the \"name\" field from the JSON string column\n",
    "name_df = df.select(get_json_object(\"json_data\", \"$.name\").alias(\"name\"))\n",
    "\n",
    "# cast the extracted value to a string\n",
    "name_str_df = name_df.withColumn(\"name_str\", name_df[\"name\"].cast(StringType()))\n",
    "\n",
    "name_str_df.show()"
   ]
  },
  {
   "cell_type": "code",
   "execution_count": null,
   "id": "9f8db29f-39b2-4737-99ee-ac186c05a9fa",
   "metadata": {
    "tags": []
   },
   "outputs": [],
   "source": [
    "from pyspark.sql.functions import json_tuple\n",
    "\n",
    "# create a DataFrame with a JSON string column\n",
    "df = spark.createDataFrame([\n",
    "  (1, '{\"name\": \"Alice\", \"age\": 25}'),\n",
    "  (2, '{\"name\": \"Bob\", \"age\": 30}')\n",
    "], [\"id\", \"json_data\"])\n",
    "\n",
    "# extract the \"name\" and \"age\" fields from the JSON string column\n",
    "name_age_df = df.select(json_tuple(\"json_data\", \"name\", \"age\").alias(\"name\", \"age\"))\n",
    "\n",
    "name_age_df.show()"
   ]
  },
  {
   "cell_type": "markdown",
   "id": "bb7d5f1d-7aa7-4da4-ae82-b2fa0a5cf279",
   "metadata": {},
   "source": [
    "### `flatten()` and `collect_list()` functions"
   ]
  },
  {
   "cell_type": "code",
   "execution_count": null,
   "id": "1cdb12ee-d210-4f80-ae4a-499332572645",
   "metadata": {
    "tags": []
   },
   "outputs": [],
   "source": [
    "from pyspark.sql.functions import flatten, collect_list\n",
    "\n",
    "# create a DataFrame with an array of arrays column\n",
    "df = spark.createDataFrame([\n",
    "  (1, [[1, 2], [3, 4], [5, 6]]),\n",
    "  (2, [[7, 8], [9, 10], [11, 12]])\n",
    "], [\"id\", \"data\"])\n",
    "\n",
    "# use collect_list() function to group by specified columns\n",
    "collect_df = df.select(collect_list(\"data\").alias(\"data\"))\n",
    "collect_df.show(truncate=False)"
   ]
  },
  {
   "cell_type": "code",
   "execution_count": null,
   "id": "71997d3d-f34d-47f9-9d4a-f8d207e32013",
   "metadata": {},
   "outputs": [],
   "source": [
    "# use flatten() function to merge all the elements of the inner arrays\n",
    "flattened_df = collect_df.select(flatten(\"data\").alias(\"merged_data\"))\n",
    "flattened_df.show(truncate=False)"
   ]
  },
  {
   "cell_type": "code",
   "execution_count": null,
   "id": "c1cab635-901a-4a2c-ae9b-b3bd819099ea",
   "metadata": {
    "tags": []
   },
   "outputs": [],
   "source": [
    "from pyspark.sql.functions import explode, flatten, collect_list\n",
    "\n",
    "# create a DataFrame with nested array column\n",
    "df = spark.createDataFrame([\n",
    "  (1, [[[1, 2], [3, 4]], [[5, 6], [7, 8]]]),\n",
    "  (2, [[[9, 10], [11, 12]], [[13, 14], [15, 16]]])\n",
    "], [\"id\", \"data\"])\n",
    "\n",
    "# explode the outermost array to flatten the structure\n",
    "exploded_df = df.select(col(\"id\"),explode(\"data\").alias(\"inner_data\"))\n",
    "\n",
    "\n",
    "# # use collect_list() to group all the inner arrays together\n",
    "grouped_df = exploded_df.groupBy(\"id\").agg(collect_list(\"inner_data\").alias(\"merged_data\"))\n",
    "\n",
    "# # use flatten() to merge all the elements of the inner arrays\n",
    "flattened_df = grouped_df.select(flatten(\"merged_data\").alias(\"final_data\"))\n",
    "\n",
    "flattened_df.show(truncate=False)\n"
   ]
  },
  {
   "cell_type": "code",
   "execution_count": null,
   "id": "ee251d4c-68b7-4eda-9792-9025ecd35c60",
   "metadata": {},
   "outputs": [],
   "source": [
    "# Stop the Spark Session\n",
    "spark.stop()"
   ]
  },
  {
   "cell_type": "code",
   "execution_count": null,
   "id": "e821b61d-84c1-4edf-9055-5ba0d500fcf0",
   "metadata": {},
   "outputs": [],
   "source": []
  }
 ],
 "metadata": {
  "kernelspec": {
   "display_name": "Python 3 (ipykernel)",
   "language": "python",
   "name": "python3"
  },
  "language_info": {
   "codemirror_mode": {
    "name": "ipython",
    "version": 3
   },
   "file_extension": ".py",
   "mimetype": "text/x-python",
   "name": "python",
   "nbconvert_exporter": "python",
   "pygments_lexer": "ipython3",
   "version": "3.8.19"
  },
  "vscode": {
   "interpreter": {
    "hash": "916dbcbb3f70747c44a77c7bcd40155683ae19c65e1c03b4aa3499c5328201f1"
   }
  }
 },
 "nbformat": 4,
 "nbformat_minor": 5
}
